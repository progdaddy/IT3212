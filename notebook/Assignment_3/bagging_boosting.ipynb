{
 "cells": [
  {
   "cell_type": "code",
   "execution_count": 3,
   "metadata": {},
   "outputs": [
    {
     "name": "stderr",
     "output_type": "stream",
     "text": [
      "c:\\Users\\sep_j\\.pyenv\\pyenv-win\\versions\\3.10.11\\lib\\site-packages\\sklearn\\ensemble\\_weight_boosting.py:527: FutureWarning: The SAMME.R algorithm (the default) is deprecated and will be removed in 1.6. Use the SAMME algorithm to circumvent this warning.\n",
      "  warnings.warn(\n"
     ]
    },
    {
     "name": "stdout",
     "output_type": "stream",
     "text": [
      "AdaBoost Accuracy: 73.95%\n",
      "AdaBoost F1 Score: 72.70%\n",
      "\n",
      "Bagging Accuracy: 75.08%\n",
      "Bagging F1 Score: 73.89%\n"
     ]
    }
   ],
   "source": [
    "from sklearn.ensemble import AdaBoostClassifier, BaggingClassifier\n",
    "from sklearn.tree import DecisionTreeClassifier\n",
    "from sklearn.model_selection import train_test_split\n",
    "from sklearn.preprocessing import StandardScaler, LabelEncoder\n",
    "from sklearn import metrics\n",
    "import pandas as pd\n",
    "\n",
    "# Load and preprocess the data\n",
    "graduation_data = pd.read_csv('../../data/student-graduation/graduation_dataset.csv')\n",
    "X = graduation_data.drop(columns=['Target'])\n",
    "y = LabelEncoder().fit_transform(graduation_data['Target'])  # Encode the target variable\n",
    "\n",
    "# Standardize the features\n",
    "scaler = StandardScaler()\n",
    "X_scaled = scaler.fit_transform(X)\n",
    "\n",
    "# Split the data into training and testing sets\n",
    "X_train, X_test, y_train, y_test = train_test_split(X_scaled, y, test_size=0.3, random_state=42)\n",
    "\n",
    "# Initialize results dictionary\n",
    "results = {}\n",
    "\n",
    "# Boosting with AdaBoost\n",
    "ada_boost = AdaBoostClassifier(\n",
    "    estimator=DecisionTreeClassifier(max_depth=1),\n",
    "    n_estimators=50,\n",
    "    random_state=42\n",
    ")\n",
    "ada_boost.fit(X_train, y_train)\n",
    "y_pred_ada = ada_boost.predict(X_test)\n",
    "results['AdaBoost'] = metrics.accuracy_score(y_test, y_pred_ada)\n",
    "f1_ada = metrics.f1_score(y_test, y_pred_ada, average='weighted')\n",
    "\n",
    "# Bagging with BaggingClassifier\n",
    "bagging = BaggingClassifier(\n",
    "    estimator=DecisionTreeClassifier(),\n",
    "    n_estimators=50,\n",
    "    random_state=42\n",
    ")\n",
    "bagging.fit(X_train, y_train)\n",
    "y_pred_bag = bagging.predict(X_test)\n",
    "results['Bagging'] = metrics.accuracy_score(y_test, y_pred_bag)\n",
    "f1_bag = metrics.f1_score(y_test, y_pred_bag, average='weighted')\n",
    "\n",
    "# Display results\n",
    "print(f\"AdaBoost Accuracy: {results['AdaBoost'] * 100:.2f}%\")\n",
    "print(f\"AdaBoost F1 Score: {f1_ada * 100:.2f}%\\n\")\n",
    "print(f\"Bagging Accuracy: {results['Bagging'] * 100:.2f}%\")\n",
    "print(f\"Bagging F1 Score: {f1_bag * 100:.2f}%\")\n"
   ]
  }
 ],
 "metadata": {
  "kernelspec": {
   "display_name": "Python 3",
   "language": "python",
   "name": "python3"
  },
  "language_info": {
   "codemirror_mode": {
    "name": "ipython",
    "version": 3
   },
   "file_extension": ".py",
   "mimetype": "text/x-python",
   "name": "python",
   "nbconvert_exporter": "python",
   "pygments_lexer": "ipython3",
   "version": "3.10.11"
  }
 },
 "nbformat": 4,
 "nbformat_minor": 2
}
