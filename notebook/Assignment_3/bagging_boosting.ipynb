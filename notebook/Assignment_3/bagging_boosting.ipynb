{
 "cells": [
  {
   "cell_type": "code",
   "execution_count": 3,
   "metadata": {},
   "outputs": [
    {
     "name": "stderr",
     "output_type": "stream",
     "text": [
      "c:\\Users\\sep_j\\.pyenv\\pyenv-win\\versions\\3.10.11\\lib\\site-packages\\xgboost\\core.py:158: UserWarning: [13:32:02] WARNING: C:\\buildkite-agent\\builds\\buildkite-windows-cpu-autoscaling-group-i-0ed59c031377d09b8-1\\xgboost\\xgboost-ci-windows\\src\\learner.cc:740: \n",
      "Parameters: { \"use_label_encoder\" } are not used.\n",
      "\n",
      "  warnings.warn(smsg, UserWarning)\n"
     ]
    },
    {
     "name": "stdout",
     "output_type": "stream",
     "text": [
      "Random Forest Accuracy: 73.92%\n",
      "Random Forest F1 Score: 70.92%\n",
      "\n",
      "XGBoost Accuracy: 73.54%\n",
      "XGBoost F1 Score: 71.76%\n"
     ]
    }
   ],
   "source": [
    "from sklearn.ensemble import RandomForestClassifier\n",
    "from xgboost import XGBClassifier\n",
    "from sklearn.model_selection import train_test_split\n",
    "from sklearn.preprocessing import StandardScaler, LabelEncoder\n",
    "from sklearn import metrics\n",
    "import pandas as pd\n",
    "\n",
    "# Load and preprocess the data\n",
    "graduation_data = pd.read_csv('../../outputs/Assignment_3/final_selected_features_data.csv')\n",
    "X = graduation_data.drop(columns=['Target'])\n",
    "y = LabelEncoder().fit_transform(graduation_data['Target'])  # Encode the target variable\n",
    "\n",
    "# Standardize the features\n",
    "scaler = StandardScaler()\n",
    "X_scaled = scaler.fit_transform(X)\n",
    "\n",
    "# Split the data into training and testing sets\n",
    "X_train, X_test, y_train, y_test = train_test_split(X_scaled, y, test_size=0.3, random_state=42)\n",
    "\n",
    "# Initialize results dictionary\n",
    "results = {}\n",
    "\n",
    "# Bagging with Random Forest\n",
    "random_forest = RandomForestClassifier(\n",
    "    n_estimators=100,  # Increase for better performance if needed\n",
    "    max_depth=10,  # Adjust based on data complexity\n",
    "    random_state=42\n",
    ")\n",
    "random_forest.fit(X_train, y_train)\n",
    "y_pred_rf = random_forest.predict(X_test)\n",
    "results['Random Forest'] = metrics.accuracy_score(y_test, y_pred_rf)\n",
    "f1_rf = metrics.f1_score(y_test, y_pred_rf, average='weighted')\n",
    "\n",
    "# Boosting with XGBoost\n",
    "xg_boost = XGBClassifier(\n",
    "    n_estimators=100,  # Increase for better performance if needed\n",
    "    learning_rate=0.1,  # Adjust learning rate for optimization\n",
    "    max_depth=6,  # Adjust based on data complexity\n",
    "    random_state=42,\n",
    "    use_label_encoder=False,  # Suppress warning for new XGBoost versions\n",
    "    eval_metric='logloss'  # Set eval metric explicitly\n",
    ")\n",
    "xg_boost.fit(X_train, y_train)\n",
    "y_pred_xgb = xg_boost.predict(X_test)\n",
    "results['XGBoost'] = metrics.accuracy_score(y_test, y_pred_xgb)\n",
    "f1_xgb = metrics.f1_score(y_test, y_pred_xgb, average='weighted')\n",
    "\n",
    "# Display results\n",
    "print(f\"Random Forest Accuracy: {results['Random Forest'] * 100:.2f}%\")\n",
    "print(f\"Random Forest F1 Score: {f1_rf * 100:.2f}%\\n\")\n",
    "print(f\"XGBoost Accuracy: {results['XGBoost'] * 100:.2f}%\")\n",
    "print(f\"XGBoost F1 Score: {f1_xgb * 100:.2f}%\")\n"
   ]
  }
 ],
 "metadata": {
  "kernelspec": {
   "display_name": "Python 3",
   "language": "python",
   "name": "python3"
  },
  "language_info": {
   "codemirror_mode": {
    "name": "ipython",
    "version": 3
   },
   "file_extension": ".py",
   "mimetype": "text/x-python",
   "name": "python",
   "nbconvert_exporter": "python",
   "pygments_lexer": "ipython3",
   "version": "3.10.11"
  }
 },
 "nbformat": 4,
 "nbformat_minor": 2
}
