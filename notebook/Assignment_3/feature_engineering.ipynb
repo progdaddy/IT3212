{
 "cells": [
  {
   "cell_type": "code",
   "execution_count": null,
   "metadata": {},
   "outputs": [],
   "source": [
    "# Copy the dataset to avoid modifying the original\n",
    "data_fe = data.copy()\n",
    "\n",
    "# 1. Academic Performance: Average grade across both semesters\n",
    "data_fe['Average Grade'] = (data_fe['Curricular units 1st sem (grade)'] + data_fe['Curricular units 2nd sem (grade)']) / 2\n",
    "\n",
    "# 2. Academic Performance: Total units approved across semesters\n",
    "data_fe['Total Units Approved'] = data_fe['Curricular units 1st sem (approved)'] + data_fe['Curricular units 2nd sem (approved)']\n",
    "\n",
    "# 3. Engagement: Percentage of curricular units evaluated (a measure of engagement)\n",
    "data_fe['Engagement Rate'] = (\n",
    "    (data_fe['Curricular units 1st sem (evaluations)'] + data_fe['Curricular units 2nd sem (evaluations)']) /\n",
    "    (data_fe['Curricular units 1st sem (enrolled)'] + data_fe['Curricular units 2nd sem (enrolled)'] + 1e-5)  # Adding a small constant to avoid division by zero\n",
    ")\n",
    "\n",
    "# 4. Socioeconomic Background: Parental education level (average of mother and father)\n",
    "data_fe['Average Parental Education'] = (data_fe['Mother\\'s qualification'] + data_fe['Father\\'s qualification']) / 2\n",
    "\n",
    "# 5. Socioeconomic Background: Parental occupation level (average of mother and father)\n",
    "data_fe['Average Parental Occupation'] = (data_fe['Mother\\'s occupation'] + data_fe['Father\\'s occupation']) / 2\n",
    "\n",
    "# 6. Financial Stability: Whether the student is up-to-date with tuition fees\n",
    "# (No transformation needed here, but this feature could be used directly in modeling)\n",
    "\n",
    "# Display the first few rows of the dataset with new features\n",
    "data_fe.head()\n"
   ]
  }
 ],
 "metadata": {
  "kernelspec": {
   "display_name": ".venv",
   "language": "python",
   "name": "python3"
  },
  "language_info": {
   "name": "python",
   "version": "3.10.6"
  }
 },
 "nbformat": 4,
 "nbformat_minor": 2
}
