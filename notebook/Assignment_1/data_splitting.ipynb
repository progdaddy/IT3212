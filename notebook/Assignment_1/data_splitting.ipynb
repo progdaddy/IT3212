{
 "cells": [
  {
   "cell_type": "code",
   "execution_count": 9,
   "metadata": {},
   "outputs": [
    {
     "data": {
      "text/plain": [
       "(35064,\n",
       " Index(['time', 'generation biomass', 'generation fossil brown coal/lignite',\n",
       "        'generation fossil coal-derived gas', 'generation fossil gas',\n",
       "        'generation fossil hard coal', 'generation fossil oil',\n",
       "        'generation fossil oil shale', 'generation fossil peat',\n",
       "        'generation geothermal', 'generation hydro pumped storage aggregated',\n",
       "        'generation hydro pumped storage consumption',\n",
       "        'generation hydro run-of-river and poundage',\n",
       "        'generation hydro water reservoir', 'generation marine',\n",
       "        'generation nuclear', 'generation other', 'generation other renewable',\n",
       "        'generation solar', 'generation waste', 'generation wind offshore',\n",
       "        'generation wind onshore', 'forecast solar day ahead',\n",
       "        'forecast wind offshore eday ahead', 'forecast wind onshore day ahead',\n",
       "        'total load forecast', 'total load actual', 'price day ahead',\n",
       "        'price actual'],\n",
       "       dtype='object'))"
      ]
     },
     "execution_count": 9,
     "metadata": {},
     "output_type": "execute_result"
    }
   ],
   "source": [
    "import pandas as pd\n",
    "\n",
    "energy_data = pd.read_csv('../data/energy_dataset.csv') \n",
    "\n",
    "num_points = energy_data.shape[0]\n",
    "columns = energy_data.columns\n",
    "\n",
    "num_points, columns"
   ]
  },
  {
   "cell_type": "code",
   "execution_count": 10,
   "metadata": {},
   "outputs": [
    {
     "data": {
      "text/plain": [
       "(((28051, 27), (7013, 27)), ((28051,), (7013,)))"
      ]
     },
     "execution_count": 10,
     "metadata": {},
     "output_type": "execute_result"
    }
   ],
   "source": [
    "from sklearn.model_selection import train_test_split\n",
    "\n",
    "target_variable = 'price actual'\n",
    "input_features = energy_data.drop(columns=[target_variable])\n",
    "\n",
    "\n",
    "X = input_features\n",
    "y = energy_data[target_variable]\n",
    "\n",
    "X_train, X_test, y_train, y_test = train_test_split(X, y, test_size=0.2, random_state=42)\n",
    "\n",
    "# Return the shape of the training and testing sets\n",
    "X_train.shape, X_test.shape, y_train.shape, y_test.shape\n"
   ]
  }
 ],
 "metadata": {
  "kernelspec": {
   "display_name": "Python 3",
   "language": "python",
   "name": "python3"
  },
  "language_info": {
   "codemirror_mode": {
    "name": "ipython",
    "version": 3
   },
   "file_extension": ".py",
   "mimetype": "text/x-python",
   "name": "python",
   "nbconvert_exporter": "python",
   "pygments_lexer": "ipython3",
   "version": "3.10.11"
  }
 },
 "nbformat": 4,
 "nbformat_minor": 2
}
